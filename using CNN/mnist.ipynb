{
 "cells": [
  {
   "cell_type": "code",
   "execution_count": null,
   "metadata": {},
   "outputs": [],
   "source": [
    "import numpy as np\n",
    "\n",
    "import tensorflow as tf\n",
    "\n",
    "data_set = tf.keras.datasets.mnist\n",
    "\n",
    "(x_train , y_train) , (x_test , y_test) = data_set.load_data()\n",
    "\n",
    "x_train = tf.keras.utils.normalize(x_train,axis=2) #do it in any axis 1 or 2\n",
    "\n",
    "x_test = tf.keras.utils.normalize(x_test,axis=2)    #do it in any axis 1 or 2\n",
    "\n",
    "print(y_train.shape) #1-D array"
   ]
  },
  {
   "cell_type": "code",
   "execution_count": 3,
   "metadata": {},
   "outputs": [
    {
     "name": "stdout",
     "output_type": "stream",
     "text": [
      "(60000, 28, 28)\n"
     ]
    },
    {
     "data": {
      "image/png": "[encoded data removed]",
      "text/plain": [
       "<Figure size 640x480 with 1 Axes>"
      ]
     },
     "metadata": {},
     "output_type": "display_data"
    }
   ],
   "source": [
    "import matplotlib.pyplot as plt\n",
    "\n",
    "plt.imshow(x_train[0],cmap = plt.cm.binary )\n",
    "\n",
    "print(np.shape(x_train))\n",
    "\n",
    "plt.show()"
   ]
  },
  {
   "cell_type": "code",
   "execution_count": null,
   "metadata": {},
   "outputs": [],
   "source": [
    "model = tf.keras.models.Sequential(\n",
    "    [\n",
    "        tf.keras.layers.Input(shape=x_train.shape[1:]),\n",
    "        tf.keras.layers.Flatten()\n",
    "    ]\n",
    ")\n",
    "\n",
    "model.add(tf.keras.layers.Dense(10, activation=tf.nn.softmax))\n",
    "\n",
    "model.compile(optimizer=tf.keras.optimizers.SGD(learning_rate=1e-1) ,\n",
    "              loss=tf.keras.losses.categorical_crossentropy ,\n",
    "              metrics=[\"accuracy\"] )\n",
    "\n",
    "y_one_hot = tf.one_hot(y_train,10)\n",
    "\n",
    "model.summary()\n",
    "\n",
    "model.fit(x_train,y_one_hot,epochs=20)\n"
   ]
  },
  {
   "cell_type": "code",
   "execution_count": null,
   "metadata": {},
   "outputs": [],
   "source": [
    "x_train = x_train.reshape((x_train.shape[0],x_train.shape[1],x_train.shape[2],1))\n",
    "\n",
    "x_test = x_test.reshape((x_test.shape[0],x_test.shape[1],x_test.shape[2],1))\n",
    "\n",
    "model2 = tf.keras.models.Sequential(\n",
    "    [\n",
    "        tf.keras.layers.Input(shape=x_train.shape[1:])\n",
    "    ]\n",
    ")\n",
    "\n",
    "model2.add(tf.keras.layers.Conv2D(5,\n",
    "                                  (3,3),\n",
    "                                  activation=tf.keras.activations.relu,\n",
    "                                  ))\n",
    "\n",
    "model2.add(tf.keras.layers.Conv2D(5,\n",
    "                                  (3,3),\n",
    "                                  activation=tf.keras.activations.relu,\n",
    "                                  ))\n",
    "\n",
    "model2.add(tf.keras.layers.MaxPool2D((2,2)))\n",
    "\n",
    "model2.add(tf.keras.layers.Conv2D(5,\n",
    "                                  (3,3),\n",
    "                                  activation=tf.keras.activations.relu,\n",
    "                                  ))\n",
    "\n",
    "model2.add(tf.keras.layers.Conv2D(5,\n",
    "                                  (3,3),\n",
    "                                  activation=tf.keras.activations.relu,\n",
    "                                  ))\n",
    "\n",
    "model2.add(tf.keras.layers.MaxPool2D((2,2)))\n",
    "\n",
    "model2.add(tf.keras.layers.Flatten())\n",
    "\n",
    "model2.add(tf.keras.layers.Dense(10,activation=tf.nn.softmax))\n",
    "\n",
    "model2.compile(optimizer=tf.keras.optimizers.SGD(),\n",
    "               loss=tf.keras.losses.categorical_crossentropy,\n",
    "               metrics=[\"accuracy\"])\n",
    "\n",
    "model2.summary()\n",
    "\n",
    "model2.fit(x_train,y_one_hot,epochs=20)"
   ]
  },
  {
   "cell_type": "code",
   "execution_count": 8,
   "metadata": {},
   "outputs": [
    {
     "name": "stdout",
     "output_type": "stream",
     "text": [
      "Test loss: 0.08434750884771347\n",
      "Test accuracy: 0.9718000292778015\n"
     ]
    }
   ],
   "source": [
    "y_test_hot = tf.one_hot(y_test,10)\n",
    "score = model2.evaluate(x_test, y_test_hot, verbose=0)\n",
    "print(\"Test loss:\", score[0])\n",
    "print(\"Test accuracy:\", score[1])"
   ]
  }
 ],
 "metadata": {
  "kernelspec": {
   "display_name": "Python 3",
   "language": "python",
   "name": "python3"
  },
  "language_info": {
   "codemirror_mode": {
    "name": "ipython",
    "version": 3
   },
   "file_extension": ".py",
   "mimetype": "text/x-python",
   "name": "python",
   "nbconvert_exporter": "python",
   "pygments_lexer": "ipython3",
   "version": "3.9.6"
  },
  "orig_nbformat": 4,
  "vscode": {
   "interpreter": {
    "hash": "31f2aee4e71d21fbe5cf8b01ff0e069b9275f58929596ceb00d14d90e3e16cd6"
   }
  }
 },
 "nbformat": 4,
 "nbformat_minor": 2
}
